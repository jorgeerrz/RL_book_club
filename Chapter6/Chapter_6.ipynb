{
 "cells": [
  {
   "cell_type": "markdown",
   "metadata": {},
   "source": [
    "# Notebook that compares sarsa vs q-learning for Gridworld\n",
    "### by Jorge Ramirez-Ruiz"
   ]
  },
  {
   "cell_type": "code",
   "execution_count": 1,
   "metadata": {},
   "outputs": [],
   "source": [
    "import numpy as np\n",
    "import matplotlib.pyplot as plt \n",
    "import imageio"
   ]
  },
  {
   "cell_type": "code",
   "execution_count": 2,
   "metadata": {},
   "outputs": [],
   "source": [
    "from mpl_toolkits import mplot3d\n",
    "#from mpl_toolkits.mplot3d import Axes3D\n",
    "from matplotlib import cm\n",
    "from mpl_toolkits.axes_grid1 import make_axes_locatable"
   ]
  },
  {
   "cell_type": "markdown",
   "metadata": {},
   "source": [
    "# Gridworld example: sarsa($\\lambda$) vs q-learning \n",
    "Actions: 0 = north, 1 = east, 2 = south, 3 = west"
   ]
  },
  {
   "cell_type": "code",
   "execution_count": 12,
   "metadata": {},
   "outputs": [],
   "source": [
    "def greedy_policy(s_x,s_y,q,ϵ,side_x,side_y):\n",
    "    a = 0\n",
    "    possible_actions = legal_actions(s_x,s_y,side_x,side_y) \n",
    "    if np.random.rand() < ϵ:\n",
    "        a = np.random.choice(range(np.size(possible_actions)))\n",
    "    else:\n",
    "        a = np.argmax(q[s_x,s_y,possible_actions]) \n",
    "    return possible_actions[a]"
   ]
  },
  {
   "cell_type": "code",
   "execution_count": 15,
   "metadata": {},
   "outputs": [],
   "source": [
    "def legal_actions(s_x,s_y,length_x,length_y):\n",
    "    actions = np.array([], dtype = np.int64)\n",
    "    #One side\n",
    "    if s_x == 0:\n",
    "        actions = np.append(actions,1)\n",
    "        #Corner\n",
    "        if s_y == 0:\n",
    "            actions = np.append(actions,0)\n",
    "        #Other corner\n",
    "        elif s_y == length_y - 1:\n",
    "            actions = np.append(actions,2)\n",
    "        #Side\n",
    "        else:\n",
    "            actions = np.append(actions,[0,2])\n",
    "    #Other side\n",
    "    elif s_x == length_x - 1:\n",
    "        actions = np.append(actions,3)\n",
    "        #Corner\n",
    "        if s_y == 0:\n",
    "            actions = np.append(actions,0)\n",
    "        #Other corner\n",
    "        elif s_y == length_y - 1:\n",
    "            actions = np.append(actions,2)\n",
    "        #Side\n",
    "        else:\n",
    "            actions = np.append(actions,[0,2])\n",
    "    elif s_y == 0:\n",
    "        actions = np.append(actions, [0,1,3])\n",
    "    elif s_y == length_y - 1:\n",
    "        actions = np.append(actions, [1,2,3])\n",
    "    else:\n",
    "        actions = np.append(actions, [0,1,2,3])\n",
    "        \n",
    "    return actions"
   ]
  },
  {
   "cell_type": "code",
   "execution_count": 5,
   "metadata": {},
   "outputs": [],
   "source": [
    "def dynamics(s_x,s_y,action):\n",
    "    s_x_p,s_y_p = s_x,s_y\n",
    "    if action == 0:\n",
    "        s_y_p += 1\n",
    "    elif action == 1:\n",
    "        s_x_p += 1\n",
    "    elif action == 2:\n",
    "        s_y_p -= 1\n",
    "    elif action == 3:\n",
    "        s_x_p -= 1\n",
    "    return s_x_p,s_y_p"
   ]
  },
  {
   "cell_type": "code",
   "execution_count": 67,
   "metadata": {},
   "outputs": [],
   "source": [
    "def reward(s_x,s_y,reward_x,reward_y, cliff = False):\n",
    "    rew = 0\n",
    "    if s_x == reward_x and s_y == reward_y:\n",
    "        rew = 0\n",
    "    elif s_y == 0 and cliff == True and s_x != 0:\n",
    "        rew = -100\n",
    "    else:\n",
    "        rew = -1\n",
    "    return rew"
   ]
  },
  {
   "cell_type": "markdown",
   "metadata": {},
   "source": [
    "## Sarsa($\\lambda$) "
   ]
  },
  {
   "cell_type": "code",
   "execution_count": 147,
   "metadata": {},
   "outputs": [],
   "source": [
    "def sarsa_λ(n_episodes,side_x,side_y,reward_x,reward_y, α, λ, ϵ = 0.1, cliff = False, asymptotically_deterministic = False):\n",
    "    Q = np.zeros((side_x,side_y,4)) \n",
    "    traj_init_x = np.array([])\n",
    "    traj_init_y = np.array([])\n",
    "    traj_final_x = np.array([])\n",
    "    traj_final_y = np.array([])\n",
    "    n_steps = np.array([])\n",
    "    for i in range(n_episodes):\n",
    "        E = np.zeros((side_x,side_y,4))\n",
    "        if cliff == False:\n",
    "            if i == 9 or i == n_episodes-1:\n",
    "                s_x,s_y = 2,2\n",
    "            else:\n",
    "                s_x,s_y = np.random.randint(0,side_x),np.random.randint(0,side_y) #2,2\n",
    "        else:\n",
    "            s_x,s_y = 0,0\n",
    "        #For GIFs\n",
    "        if i == 9:\n",
    "            traj_init_x = np.append(traj_init_x,s_x)\n",
    "            traj_init_y = np.append(traj_init_y,s_y)\n",
    "        if i == n_episodes-1:\n",
    "            traj_final_x = np.append(traj_final_x,s_x)\n",
    "            traj_final_y = np.append(traj_final_y,s_y)\n",
    "        #First action\n",
    "        action = greedy_policy(s_x,s_y,Q,ϵ,side_x,side_y) \n",
    "        terminate = False\n",
    "        #s_x_p,s_y_p,r,a_p = 0,0,0,0\n",
    "        δ = 0\n",
    "        t = 0\n",
    "        while terminate == False:\n",
    "            if s_x == reward_x and s_y == reward_y:\n",
    "                n_steps = np.append(n_steps,t)\n",
    "                terminate = True\n",
    "            else:\n",
    "                t +=1\n",
    "                #Dynamics\n",
    "                s_x_p,s_y_p = dynamics(s_x,s_y,action)\n",
    "                r = reward(s_x_p,s_y_p,reward_x,reward_y)\n",
    "                if cliff == True and s_y_p == 0 and s_x_p != 0 and s_x_p != reward_x:\n",
    "                    s_x_p = 0\n",
    "                if asymptotically_deterministic == True:\n",
    "                    ϵ_k = ϵ/(i+1)\n",
    "                else:\n",
    "                    ϵ_k = ϵ\n",
    "                a_p = greedy_policy(s_x_p,s_y_p,Q,ϵ_k,side_x,side_y) \n",
    "                δ = r + Q[s_x_p,s_y_p,a_p] - Q[s_x,s_y,action]\n",
    "                E[s_x,s_y,action] += 1\n",
    "                Q += α*δ*E #also possible δ*E/t\n",
    "                E *= λ\n",
    "                s_x = s_x_p\n",
    "                s_y = s_y_p\n",
    "                action = a_p\n",
    "                if i == 9:\n",
    "                    traj_init_x = np.append(traj_init_x,s_x)\n",
    "                    traj_init_y = np.append(traj_init_y,s_y)\n",
    "                if i == n_episodes-1:\n",
    "                    traj_final_x = np.append(traj_final_x,s_x)\n",
    "                    traj_final_y = np.append(traj_final_y,s_y)\n",
    "    return Q, n_steps, [traj_init_x,traj_init_y], [traj_final_x,traj_final_y] # [traj_inter_x,traj_inter_y]"
   ]
  },
  {
   "cell_type": "code",
   "execution_count": 201,
   "metadata": {},
   "outputs": [
    {
     "name": "stdout",
     "output_type": "stream",
     "text": [
      "CPU times: user 636 ms, sys: 12 ms, total: 647 ms\n",
      "Wall time: 663 ms\n"
     ]
    }
   ],
   "source": [
    "side_x = 10\n",
    "side_y = 4\n",
    "n_episodes = 1000\n",
    "reward_x = side_x - 1\n",
    "reward_y = 0\n",
    "cliff = True\n",
    "ϵ = 0.5\n",
    "λ = 0# 0.8\n",
    "α = 0.1\n",
    "asymptotically_deterministic = True\n",
    "%time q, steps_sarsa, initial, final = sarsa_λ(n_episodes,side_x,side_y, reward_x, reward_y, α, λ, ϵ, cliff, asymptotically_deterministic)"
   ]
  },
  {
   "cell_type": "code",
   "execution_count": 151,
   "metadata": {},
   "outputs": [
    {
     "data": {
      "text/plain": [
       "59.0"
      ]
     },
     "execution_count": 151,
     "metadata": {},
     "output_type": "execute_result"
    }
   ],
   "source": [
    "steps_sarsa[0]"
   ]
  },
  {
   "cell_type": "code",
   "execution_count": 162,
   "metadata": {},
   "outputs": [
    {
     "data": {
      "text/plain": [
       "(114, 12)"
      ]
     },
     "execution_count": 162,
     "metadata": {},
     "output_type": "execute_result"
    }
   ],
   "source": [
    "len(initial[0]),len(final[0])"
   ]
  },
  {
   "cell_type": "markdown",
   "metadata": {},
   "source": [
    "Gif for initial"
   ]
  },
  {
   "cell_type": "code",
   "execution_count": 163,
   "metadata": {},
   "outputs": [
    {
     "data": {
      "text/plain": [
       "<Figure size 432x288 with 0 Axes>"
      ]
     },
     "metadata": {},
     "output_type": "display_data"
    }
   ],
   "source": [
    "arrows_x = np.zeros(len(initial[0]))\n",
    "arrows_y = np.zeros(len(initial[1]))\n",
    "#colors = np.linspace(0,len(initial[0]),len(initial[0])+1)\n",
    "for i in range(len(initial[1])-1):\n",
    "    arrows_x[i] = initial[0][i+1]-initial[0][i]\n",
    "    arrows_y[i] = initial[1][i+1]-initial[1][i]\n",
    "\n",
    "xs = np.linspace(0, side_x, side_x+1) - 0.5\n",
    "ys = np.linspace(0, side_y, side_y+1) - 0.5\n",
    "for i in range(len(initial[1])):\n",
    "    ax = plt.gca()\n",
    "    # grid lines\n",
    "    for x in xs:\n",
    "        plt.plot([x, x], [ys[0], ys[-1]], color='black', alpha=.33, linestyle='-')\n",
    "    for y in ys:\n",
    "        plt.plot([xs[0], xs[-1]], [y, y], color='black', alpha=.33, linestyle='-')\n",
    "    if cliff == True:\n",
    "        plt.plot([xs[1], xs[-2]], [ys[0]+0.5,ys[0]+0.5], color='black', alpha=.33, linestyle='-',linewidth = 5)\n",
    "\n",
    "    ax.axis('off')\n",
    "    plt.title('Episode = 1, λ = '+str(λ)+', ϵ = '+str(ϵ)+' α = '+str(α))\n",
    "    plt.plot(reward_x,reward_y,'ro',markersize = 10)\n",
    "\n",
    "    plt.quiver(initial[0][i],initial[1][i],arrows_x[i],arrows_y[i])\n",
    "    plt.savefig('./sarsa_lambda/initial'+str(side_x)+'/c_plot'+str(i)+'.png')\n",
    "    plt.clf()\n",
    "n = len(initial[0])\n",
    "gif_path = \"./sarsa_lambda/c_initial\"+str(side_x)+\"epsilon\"+str(ϵ)+\".gif\"\n",
    "frames_path = \"./sarsa_lambda/initial\"+str(side_x)+\"/c_plot{i}.png\"\n",
    "with imageio.get_writer(gif_path, mode='I',fps = 7) as writer:\n",
    "    for i in range(n):\n",
    "        writer.append_data(imageio.imread(frames_path.format(i=i)))"
   ]
  },
  {
   "cell_type": "markdown",
   "metadata": {},
   "source": [
    "Gif for final"
   ]
  },
  {
   "cell_type": "code",
   "execution_count": 164,
   "metadata": {
    "scrolled": true
   },
   "outputs": [
    {
     "data": {
      "text/plain": [
       "<Figure size 432x288 with 0 Axes>"
      ]
     },
     "metadata": {},
     "output_type": "display_data"
    }
   ],
   "source": [
    "arrows_x = np.zeros(len(final[0]))\n",
    "arrows_y = np.zeros(len(final[1]))\n",
    "#colors = np.linspace(0,len(initial[0]),len(initial[0])+1)\n",
    "for i in range(len(final[1])-1):\n",
    "    arrows_x[i] = final[0][i+1]-final[0][i]\n",
    "    arrows_y[i] = final[1][i+1]-final[1][i]\n",
    "\n",
    "xs = np.linspace(0.0, side_x, side_x+1) - 0.5\n",
    "ys = np.linspace(0.0, side_y, side_y+1) - 0.5\n",
    "for i in range(len(final[1])):\n",
    "    ax = plt.gca()\n",
    "    # grid lines\n",
    "    for x in xs:\n",
    "        plt.plot([x, x], [ys[0], ys[-1]], color='black', alpha=.33, linestyle='-')\n",
    "    for y in ys:\n",
    "        plt.plot([xs[0], xs[-1]], [y, y], color='black', alpha=.33, linestyle='-')\n",
    "    if cliff == True:\n",
    "        plt.plot([xs[1], xs[-2]], [ys[0]+0.5,ys[0]+0.5], color='black', alpha=.33, linestyle='-',linewidth = 5)\n",
    "\n",
    "    ax.axis('off')\n",
    "    plt.title('Episode = '+str(n_episodes)+', λ = '+str(λ)+', ϵ ='+str(ϵ)+', α = '+str(α))\n",
    "    plt.plot(reward_x,reward_y,'ro',markersize = 10)\n",
    "\n",
    "    plt.quiver(final[0][i],final[1][i],arrows_x[i],arrows_y[i])\n",
    "    plt.savefig('./sarsa_lambda/final'+str(side_x)+'/c_plot'+str(i)+'.png')\n",
    "    plt.clf()\n",
    "n = len(final[0])\n",
    "gif_path = \"./sarsa_lambda/c_final\"+str(side_x)+\"epsilon\"+str(ϵ)+\".gif\"\n",
    "frames_path = \"./sarsa_lambda/final\"+str(side_x)+\"/c_plot{i}.png\"\n",
    "with imageio.get_writer(gif_path, mode='I',fps = 7) as writer:\n",
    "    for i in range(n):\n",
    "        writer.append_data(imageio.imread(frames_path.format(i=i)))"
   ]
  },
  {
   "cell_type": "markdown",
   "metadata": {},
   "source": [
    "## Q-learning"
   ]
  },
  {
   "cell_type": "code",
   "execution_count": 191,
   "metadata": {},
   "outputs": [],
   "source": [
    "def q_learning(n_episodes,side_x,side_y,reward_x,reward_y, α, ϵ = 0.1, cliff = False, asymptotically_deterministic = False):\n",
    "    Q = np.zeros((side_x,side_y,4)) \n",
    "    traj_init_x = np.array([])\n",
    "    traj_init_y = np.array([])\n",
    "    traj_final_x = np.array([])\n",
    "    traj_final_y = np.array([])\n",
    "    n_steps = np.array([])\n",
    "    for i in range(n_episodes):\n",
    "        if cliff == False:\n",
    "            if i == 1 or i == n_episodes-1:\n",
    "                s_x,s_y = 2,2\n",
    "            else:\n",
    "                s_x,s_y = np.random.randint(0,side_x),np.random.randint(0,side_y) #2,2\n",
    "        else:\n",
    "            s_x,s_y = 0,0\n",
    "        if i == 1:\n",
    "            traj_init_x = np.append(traj_init_x,s_x)\n",
    "            traj_init_y = np.append(traj_init_y,s_y)\n",
    "        if i == n_episodes-1:\n",
    "            traj_final_x = np.append(traj_final_x,s_x)\n",
    "            traj_final_y = np.append(traj_final_y,s_y)        \n",
    "        terminate = False\n",
    "        δ = 0\n",
    "        t = 0\n",
    "        while terminate == False:\n",
    "            if s_x == reward_x and s_y == reward_y:\n",
    "                n_steps = np.append(n_steps,t)\n",
    "                terminate = True\n",
    "            else:\n",
    "                t +=1\n",
    "                #ϵ-greedy is our behaviour policy\n",
    "                if asymptotically_deterministic == True:\n",
    "                    ϵ_k = ϵ/(i+1)\n",
    "                else:\n",
    "                    ϵ_k = ϵ\n",
    "                a_p = greedy_policy(s_x,s_y,Q,ϵ_k,side_x,side_y) #/(i+1)\n",
    "                s_x_p,s_y_p = dynamics(s_x,s_y,a_p)\n",
    "\n",
    "                r = reward(s_x_p,s_y_p,reward_x,reward_y)\n",
    "                if cliff == True and s_y_p == 0 and s_x_p != 0 and s_x_p != reward_x:\n",
    "                    s_x_p = 0\n",
    "                #look at best action from state s_p given legal actions, greedy policy is target policy\n",
    "                legal = legal_actions(s_x_p,s_y_p,side_x,side_y)\n",
    "                δ = r + np.amax(Q[s_x_p,s_y_p,legal]) - Q[s_x,s_y,a_p]\n",
    "                Q[s_x,s_y,a_p] += α*δ \n",
    "                s_x = s_x_p\n",
    "                s_y = s_y_p\n",
    "                if i == 1:\n",
    "                    traj_init_x = np.append(traj_init_x,s_x)\n",
    "                    traj_init_y = np.append(traj_init_y,s_y)\n",
    "                if i == n_episodes-1:\n",
    "                    traj_final_x = np.append(traj_final_x,s_x)\n",
    "                    traj_final_y = np.append(traj_final_y,s_y)\n",
    "    return Q, n_steps, [traj_init_x,traj_init_y], [traj_final_x,traj_final_y]"
   ]
  },
  {
   "cell_type": "code",
   "execution_count": 202,
   "metadata": {},
   "outputs": [
    {
     "name": "stdout",
     "output_type": "stream",
     "text": [
      "CPU times: user 782 ms, sys: 10.8 ms, total: 793 ms\n",
      "Wall time: 803 ms\n"
     ]
    }
   ],
   "source": [
    "side_x = 10\n",
    "side_y = 4\n",
    "n_episodes = 1000\n",
    "reward_x = side_x - 1\n",
    "reward_y = 0\n",
    "cliff = True\n",
    "ϵ = 0.5\n",
    "λ = 0# 0.8\n",
    "α = 0.1\n",
    "asymptotically_deterministic = True\n",
    "%time q_l, steps_q_learning, initial_q, final_q = q_learning(n_episodes,side_x,side_y, reward_x, reward_y, α, ϵ, cliff, asymptotically_deterministic)"
   ]
  },
  {
   "cell_type": "code",
   "execution_count": 193,
   "metadata": {},
   "outputs": [
    {
     "data": {
      "text/plain": [
       "(728, 12)"
      ]
     },
     "execution_count": 193,
     "metadata": {},
     "output_type": "execute_result"
    }
   ],
   "source": [
    "len(initial_q[0]),len(final_q[0])"
   ]
  },
  {
   "cell_type": "markdown",
   "metadata": {},
   "source": [
    "Gif for initial"
   ]
  },
  {
   "cell_type": "code",
   "execution_count": null,
   "metadata": {},
   "outputs": [],
   "source": [
    "arrows_x = np.zeros(len(initial_q[0]))\n",
    "arrows_y = np.zeros(len(initial_q[1]))\n",
    "#colors = np.linspace(0,len(initial[0]),len(initial[0])+1)\n",
    "for i in range(len(initial_q[1])-1):\n",
    "    arrows_x[i] = initial_q[0][i+1]-initial_q[0][i]\n",
    "    arrows_y[i] = initial_q[1][i+1]-initial_q[1][i]\n",
    "\n",
    "xs = np.linspace(0.0, side_x, side_x+1) - 0.5\n",
    "ys = np.linspace(0.0, side_y, side_y+1) - 0.5\n",
    "plt.rc(\"text\", usetex=False)\n",
    "for i in range(len(initial_q[1])):\n",
    "    ax = plt.gca()\n",
    "    # grid lines\n",
    "    for x in xs:\n",
    "        plt.plot([x, x], [ys[0], ys[-1]], color='black', alpha=.33, linestyle='-')\n",
    "    for y in ys:\n",
    "        plt.plot([xs[0], xs[-1]], [y, y], color='black', alpha=.33, linestyle='-')\n",
    "    if cliff == True:\n",
    "        plt.plot([xs[1], xs[-2]], [ys[0]+0.5,ys[0]+0.5], color='black', alpha=.33, linestyle='-',linewidth = 5)\n",
    "\n",
    "    ax.axis('off')\n",
    "    plt.title('Episode = 1, ϵ = '+str(ϵ)+', α = '+str(α))\n",
    "    plt.plot(reward_x,reward_y,'ro',markersize = 10)\n",
    "\n",
    "    plt.quiver(initial_q[0][i],initial_q[1][i],arrows_x[i],arrows_y[i])\n",
    "    plt.savefig('./q-learning/initial'+str(side_x)+'/c_plot'+str(i)+'.png')\n",
    "    plt.clf()\n",
    "n = len(initial_q[0])\n",
    "gif_path = \"./q-learning/c_initial\"+str(side_x)+\"epsilon\"+str(ϵ)+\".gif\"\n",
    "frames_path = \"./q-learning/initial\"+str(side_x)+\"/c_plot{i}.png\"\n",
    "with imageio.get_writer(gif_path, mode='I') as writer:\n",
    "    for i in range(n):\n",
    "        writer.append_data(imageio.imread(frames_path.format(i=i)))"
   ]
  },
  {
   "cell_type": "code",
   "execution_count": 195,
   "metadata": {},
   "outputs": [
    {
     "data": {
      "text/plain": [
       "<Figure size 432x288 with 0 Axes>"
      ]
     },
     "metadata": {},
     "output_type": "display_data"
    }
   ],
   "source": [
    "arrows_x = np.zeros(len(final_q[0]))\n",
    "arrows_y = np.zeros(len(final_q[1]))\n",
    "colors = np.linspace(0,len(final_q[0]),len(final_q[0])+1)\n",
    "for i in range(len(final_q[1])-1):\n",
    "    arrows_x[i] = final_q[0][i+1]-final_q[0][i]\n",
    "    arrows_y[i] = final_q[1][i+1]-final_q[1][i]\n",
    "    \n",
    "xs = np.linspace(0.0, side_x, side_x+1) - 0.5\n",
    "ys = np.linspace(0.0, side_y, side_y+1) - 0.5\n",
    "plt.rc(\"text\", usetex=False)\n",
    "for i in range(len(final_q[1])):\n",
    "    ax = plt.gca()\n",
    "    # grid lines\n",
    "    for x in xs:\n",
    "        plt.plot([x, x], [ys[0], ys[-1]], color='black', alpha=.33, linestyle='-')\n",
    "    for y in ys:\n",
    "        plt.plot([xs[0], xs[-1]], [y, y], color='black', alpha=.33, linestyle='-')\n",
    "    if cliff == True:\n",
    "        plt.plot([xs[1], xs[-2]], [ys[0]+0.5,ys[0]+0.5], color='black', alpha=.33, linestyle='-',linewidth = 5)\n",
    "        \n",
    "    ax.axis('off')\n",
    "    plt.title('Episode = '+str(n_episodes)+', ϵ = '+str(ϵ)+', α = '+str(α))\n",
    "    plt.plot(reward_x,reward_y,'ro',markersize = 10)\n",
    "\n",
    "    plt.quiver(final_q[0][i],final_q[1][i],arrows_x[i],arrows_y[i])\n",
    "    plt.savefig('./q-learning/final'+str(side_x)+'/c_plot'+str(i)+'.png')\n",
    "    plt.clf()\n",
    "#plt.show()\n",
    "n = len(final_q[0])\n",
    "gif_path = \"./q-learning/c_final\"+str(side_x)+\"epsilon\"+str(ϵ)+\".gif\"\n",
    "frames_path = \"./q-learning/final\"+str(side_x)+\"/c_plot{i}.png\"\n",
    "with imageio.get_writer(gif_path, mode='I') as writer:\n",
    "    for i in range(n):\n",
    "        writer.append_data(imageio.imread(frames_path.format(i=i)))"
   ]
  },
  {
   "cell_type": "markdown",
   "metadata": {},
   "source": [
    "## Comparison"
   ]
  },
  {
   "cell_type": "code",
   "execution_count": 196,
   "metadata": {},
   "outputs": [
    {
     "name": "stderr",
     "output_type": "stream",
     "text": [
      "findfont: Font family ['serif'] not found. Falling back to DejaVu Sans.\n"
     ]
    },
    {
     "data": {
      "image/png": "[encoded data removed]",
      "text/plain": [
       "<Figure size 283.465x255.118 with 1 Axes>"
      ]
     },
     "metadata": {
      "needs_background": "light"
     },
     "output_type": "display_data"
    }
   ],
   "source": [
    "widthCM = 10\n",
    "heightCM = 9\n",
    "f = plt.figure(figsize=(widthCM/2.54, heightCM/2.54), dpi=72)\n",
    "ax = plt.gca()\n",
    "plt.rc(\"text\", usetex=True)\n",
    "plt.rc(\"font\",family=\"serif\", serif = \"Computer Modern\")\n",
    "ax.spines[\"right\"].set_visible(False)\n",
    "ax.spines[\"top\"].set_visible(False)\n",
    "\n",
    "plt.plot(steps_q_learning, label = \"Q-learning\")\n",
    "plt.plot(steps_sarsa,label=\"Sarsa($\\lambda$)\")\n",
    "plt.title(r'Cliff walker, $\\epsilon$ = 1/episode, $\\alpha = 0.1$, $\\lambda = 0.8$')\n",
    "plt.xlabel(\"Episodes\")\n",
    "plt.ylabel(\"Number of steps\")\n",
    "plt.tight_layout(rect = [0.01, 0.01, 1, 1])\n",
    "plt.legend(frameon=False)\n",
    "plt.savefig(\"cliff_sarsa-lambda_v_q-learning.pdf\")"
   ]
  },
  {
   "cell_type": "markdown",
   "metadata": {
    "collapsed": true
   },
   "source": [
    "## Q-surface"
   ]
  },
  {
   "cell_type": "code",
   "execution_count": 241,
   "metadata": {},
   "outputs": [
    {
     "data": {
      "image/png": "[encoded data removed]",
      "text/plain": [
       "<Figure size 510.236x255.118 with 3 Axes>"
      ]
     },
     "metadata": {
      "needs_background": "light"
     },
     "output_type": "display_data"
    }
   ],
   "source": [
    "widthCM = 18\n",
    "heightCM = 9\n",
    "#side_length = 8\n",
    "fig = plt.figure(figsize=(widthCM/2.54, heightCM/2.54), dpi=72)\n",
    "plt.rc(\"text\", usetex=True)\n",
    "plt.rc(\"font\",family=\"serif\", serif = \"Computer Modern\")\n",
    "\n",
    "ax1 = fig.add_subplot(1, 2, 1)\n",
    "\n",
    "v = np.zeros([side_x,side_y])\n",
    "for s_x in range(side_x):\n",
    "    for s_y in range(side_y):\n",
    "        acts = legal_actions(s_x,s_y,side_x,side_y)\n",
    "        v[s_x,s_y] = np.max(q_l[s_x,s_y,acts])\n",
    "        \n",
    "surf = ax1.imshow(v[::1,::-1].T)\n",
    "ax1.plot([reward_x],[3],\"ro\")\n",
    "ax1.set_title('Q-learning V(s)')\n",
    "\n",
    "ax2 = fig.add_subplot(1, 2, 2)\n",
    "v2 = np.zeros([side_x,side_y])\n",
    "for s_x in range(side_x):\n",
    "    for s_y in range(side_y):\n",
    "        acts = legal_actions(s_x,s_y,side_x,side_y)\n",
    "        v2[s_x,s_y] = np.max(q[s_x,s_y,acts])\n",
    "surf2 = ax2.imshow(v2[::1,::-1].T)\n",
    "ax2.plot([reward_x],[3],\"ro\")\n",
    "ax2.set_title(r'Sarsa($\\lambda$) V(s)')\n",
    "divider = make_axes_locatable(ax2)\n",
    "cax1 = divider.append_axes(\"right\", size=\"5%\", pad=0.05)\n",
    "fig.colorbar(surf2, cax=cax1) #ticks = [0, -2, -4, -6, -8, -10]\n",
    "\n",
    "#fig.colorbar(surf2, ticks = [0, -2, -4, -6, -8, -10], shrink=0.5, aspect=3)\n",
    "#plt.tight_layout(0.1,0.1,0.1)\n",
    "\n",
    "plt.savefig(\"./value_functions.pdf\")"
   ]
  }
 ],
 "metadata": {
  "anaconda-cloud": {},
  "kernelspec": {
   "display_name": "Python 3",
   "language": "python",
   "name": "python3"
  },
  "language_info": {
   "codemirror_mode": {
    "name": "ipython",
    "version": 3
   },
   "file_extension": ".py",
   "mimetype": "text/x-python",
   "name": "python",
   "nbconvert_exporter": "python",
   "pygments_lexer": "ipython3",
   "version": "3.8.5"
  }
 },
 "nbformat": 4,
 "nbformat_minor": 2
}

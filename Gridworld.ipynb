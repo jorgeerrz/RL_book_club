{
 "cells": [
  {
   "cell_type": "markdown",
   "metadata": {},
   "source": [
    "# Notebook that compares sarsa vs q-learning for Gridworld\n",
    "### by Jorge Ramirez-Ruiz"
   ]
  },
  {
   "cell_type": "code",
   "execution_count": 1,
   "metadata": {},
   "outputs": [],
   "source": [
    "import numpy as np\n",
    "import matplotlib.pyplot as plt \n",
    "import imageio"
   ]
  },
  {
   "cell_type": "code",
   "execution_count": 220,
   "metadata": {
    "collapsed": true
   },
   "outputs": [],
   "source": [
    "from mpl_toolkits import mplot3d\n",
    "#from mpl_toolkits.mplot3d import Axes3D\n",
    "from matplotlib import cm\n",
    "from mpl_toolkits.axes_grid1 import make_axes_locatable"
   ]
  },
  {
   "cell_type": "markdown",
   "metadata": {},
   "source": [
    "# Gridworld example: sarsa($\\lambda$) vs q-learning \n",
    "Actions: 0 = north, 1 = east, 2 = south, 3 = west"
   ]
  },
  {
   "cell_type": "code",
   "execution_count": 2,
   "metadata": {
    "collapsed": true
   },
   "outputs": [],
   "source": [
    "def greedy_policy(s_x,s_y,q,ϵ,state_side):\n",
    "    a = 0\n",
    "    possible_actions = legal_actions(s_x,s_y,state_side) \n",
    "    if np.random.rand() < ϵ:\n",
    "        a = np.random.choice(range(np.size(possible_actions)))\n",
    "    else:\n",
    "        a = np.argmax(q[s_x,s_y,possible_actions]) \n",
    "    return possible_actions[a]"
   ]
  },
  {
   "cell_type": "code",
   "execution_count": 3,
   "metadata": {
    "collapsed": true
   },
   "outputs": [],
   "source": [
    "def legal_actions(s_x,s_y,side_length):\n",
    "    actions = np.array([], dtype = np.int64)\n",
    "    #One side\n",
    "    if s_x == 0:\n",
    "        actions = np.append(actions,1)\n",
    "        #Corner\n",
    "        if s_y == 0:\n",
    "            actions = np.append(actions,0)\n",
    "        #Other corner\n",
    "        elif s_y == side_length - 1:\n",
    "            actions = np.append(actions,2)\n",
    "        #Side\n",
    "        else:\n",
    "            actions = np.append(actions,[0,2])\n",
    "    #Other side\n",
    "    elif s_x == side_length - 1:\n",
    "        actions = np.append(actions,3)\n",
    "        #Corner\n",
    "        if s_y == 0:\n",
    "            actions = np.append(actions,0)\n",
    "        #Other corner\n",
    "        elif s_y == side_length - 1:\n",
    "            actions = np.append(actions,2)\n",
    "        #Side\n",
    "        else:\n",
    "            actions = np.append(actions,[0,2])\n",
    "    elif s_y == 0:\n",
    "        actions = np.append(actions, [0,1,3])\n",
    "    elif s_y == side_length - 1:\n",
    "        actions = np.append(actions, [1,2,3])\n",
    "    else:\n",
    "        actions = np.append(actions, [0,1,2,3])\n",
    "        \n",
    "    return actions"
   ]
  },
  {
   "cell_type": "code",
   "execution_count": 4,
   "metadata": {
    "collapsed": true
   },
   "outputs": [],
   "source": [
    "def dynamics(s_x,s_y,action):\n",
    "    s_x_p,s_y_p = s_x,s_y\n",
    "    if action == 0:\n",
    "        s_y_p += 1\n",
    "    elif action == 1:\n",
    "        s_x_p += 1\n",
    "    elif action == 2:\n",
    "        s_y_p -= 1\n",
    "    elif action == 3:\n",
    "        s_x_p -= 1\n",
    "    return s_x_p,s_y_p"
   ]
  },
  {
   "cell_type": "code",
   "execution_count": 114,
   "metadata": {
    "collapsed": true
   },
   "outputs": [],
   "source": [
    "def reward(s_x,s_y,reward_x,reward_y):\n",
    "    rew = 0\n",
    "    if s_x == reward_x and s_y == reward_y:\n",
    "        rew = 0\n",
    "    else:\n",
    "        rew = -1\n",
    "    return rew"
   ]
  },
  {
   "cell_type": "markdown",
   "metadata": {},
   "source": [
    "## Sarsa($\\lambda$) "
   ]
  },
  {
   "cell_type": "code",
   "execution_count": 133,
   "metadata": {
    "collapsed": true
   },
   "outputs": [],
   "source": [
    "def sarsa_λ(n_episodes,state_side,reward_x,reward_y, α, λ, ϵ = 0.1):\n",
    "    Q = np.zeros((state_side,state_side,4))\n",
    "    traj_init_x = np.array([])\n",
    "    traj_init_y = np.array([])\n",
    "    traj_inter_x = np.array([])\n",
    "    traj_inter_y = np.array([])\n",
    "    traj_final_x = np.array([])\n",
    "    traj_final_y = np.array([])\n",
    "    n_steps = np.array([])\n",
    "    for i in range(n_episodes):\n",
    "        #print(\"episode = \", i, \"\\n\")\n",
    "        E = np.zeros((state_side,state_side,4))\n",
    "        if i == 0 or i == 9 or i == n_episodes-1:\n",
    "            s_x,s_y = 2,2\n",
    "        else:\n",
    "            s_x,s_y = np.random.randint(0,state_side),np.random.randint(0,state_side) #2,2\n",
    "        #\n",
    "        if i == 0:\n",
    "            traj_init_x = np.append(traj_init_x,s_x)\n",
    "            traj_init_y = np.append(traj_init_y,s_y)\n",
    "        if i == 9:\n",
    "            traj_inter_x = np.append(traj_inter_x,s_x)\n",
    "            traj_inter_y = np.append(traj_inter_y,s_y)\n",
    "        if i == n_episodes-1:\n",
    "            traj_final_x = np.append(traj_final_x,s_x)\n",
    "            traj_final_y = np.append(traj_final_y,s_y)        \n",
    "        action = np.random.choice(legal_actions(s_x,s_y,state_side)) \n",
    "        terminate = False\n",
    "        #s_x_p,s_y_p,r,a_p = 0,0,0,0\n",
    "        δ = 0\n",
    "        t = 0\n",
    "        while terminate == False:\n",
    "            if s_x == reward_x and s_y == reward_y:\n",
    "                n_steps = np.append(n_steps,t)\n",
    "                terminate = True\n",
    "            else:\n",
    "                t +=1\n",
    "                #Dynamics\n",
    "                s_x_p,s_y_p = dynamics(s_x,s_y,action)\n",
    "                #print(\"s_x_p = \", s_x_p, \", s_y_p = \", s_y_p, \"\\n\")\n",
    "                #print(\"legal actions from here = \", legal_actions(s_x_p,s_y_p,state_side), \"\\n\")\n",
    "                r = reward(s_x_p,s_y_p,reward_x,reward_y)\n",
    "                a_p = greedy_policy(s_x_p,s_y_p,Q,ϵ/(i+1),state_side) \n",
    "                δ = r + Q[s_x_p,s_y_p,a_p] - Q[s_x,s_y,action]\n",
    "                E[s_x,s_y,action] += 1\n",
    "                Q += α*δ*E #also possible δ*E/t\n",
    "                E *= λ\n",
    "                s_x = s_x_p\n",
    "                s_y = s_y_p\n",
    "                action = a_p\n",
    "                if i == 0:\n",
    "                    traj_init_x = np.append(traj_init_x,s_x)\n",
    "                    traj_init_y = np.append(traj_init_y,s_y)\n",
    "                if i == 9:\n",
    "                    traj_inter_x = np.append(traj_inter_x,s_x)\n",
    "                    traj_inter_y = np.append(traj_inter_y,s_y)\n",
    "                if i == n_episodes-1:\n",
    "                    traj_final_x = np.append(traj_final_x,s_x)\n",
    "                    traj_final_y = np.append(traj_final_y,s_y)\n",
    "                #print(\"s_x = \", s_x, \", s_y = \", s_y ,\", action = \", action , \"\\n\")\n",
    "    return Q, n_steps, [traj_init_x,traj_init_y], [traj_final_x,traj_final_y] # [traj_inter_x,traj_inter_y]"
   ]
  },
  {
   "cell_type": "code",
   "execution_count": 134,
   "metadata": {},
   "outputs": [],
   "source": [
    "state_side = 8\n",
    "n_episodes = 1000\n",
    "reward_x = 6\n",
    "reward_y = 6\n",
    "ϵ = 1\n",
    "λ = 0.8\n",
    "α = 0.1\n",
    "q, steps_sarsa, initial, final = sarsa_λ(n_episodes,state_side, reward_x, reward_y, α, λ, ϵ)"
   ]
  },
  {
   "cell_type": "code",
   "execution_count": 117,
   "metadata": {},
   "outputs": [
    {
     "data": {
      "text/plain": [
       "40.0"
      ]
     },
     "execution_count": 117,
     "metadata": {},
     "output_type": "execute_result"
    }
   ],
   "source": [
    "steps_sarsa[0]"
   ]
  },
  {
   "cell_type": "code",
   "execution_count": 118,
   "metadata": {},
   "outputs": [
    {
     "data": {
      "text/plain": [
       "(41, 9)"
      ]
     },
     "execution_count": 118,
     "metadata": {},
     "output_type": "execute_result"
    }
   ],
   "source": [
    "len(initial[0]),len(final[0])"
   ]
  },
  {
   "cell_type": "markdown",
   "metadata": {},
   "source": [
    "Gif for initial"
   ]
  },
  {
   "cell_type": "code",
   "execution_count": 237,
   "metadata": {},
   "outputs": [
    {
     "data": {
      "text/plain": [
       "<Figure size 432x288 with 0 Axes>"
      ]
     },
     "metadata": {},
     "output_type": "display_data"
    }
   ],
   "source": [
    "arrows_x = np.zeros(len(initial[0]))\n",
    "arrows_y = np.zeros(len(initial[1]))\n",
    "#colors = np.linspace(0,len(initial[0]),len(initial[0])+1)\n",
    "for i in range(len(initial[1])-1):\n",
    "    arrows_x[i] = initial[0][i+1]-initial[0][i]\n",
    "    arrows_y[i] = initial[1][i+1]-initial[1][i]\n",
    "\n",
    "xs = np.linspace(-0.5, state_side+0.5, state_side+2)\n",
    "ys = np.linspace(-0.5, state_side+0.5, state_side+2)\n",
    "for i in range(len(initial[1])):\n",
    "    ax = plt.gca()\n",
    "    # grid lines\n",
    "    for x in xs:\n",
    "        plt.plot([x, x], [ys[0], ys[-1]], color='black', alpha=.33, linestyle='-')\n",
    "    for y in ys:\n",
    "        plt.plot([xs[0], xs[-1]], [y, y], color='black', alpha=.33, linestyle='-')\n",
    "\n",
    "    ax.axis('off')\n",
    "    plt.title('Episode = 1, λ = '+str(λ)+', ϵ = 1, α = '+str(α))\n",
    "    plt.plot(reward_x,reward_y,'ro',markersize = 10)\n",
    "\n",
    "    plt.quiver(initial[0][i],initial[1][i],arrows_x[i],arrows_y[i])\n",
    "    plt.savefig('./sarsa_lambda/initial'+str(state_side)+'/c_plot'+str(i)+'.png')\n",
    "    plt.clf()\n",
    "n = len(initial[0])\n",
    "gif_path = \"./sarsa_lambda/c_initial\"+str(state_side)+\".gif\"\n",
    "frames_path = \"./sarsa_lambda/initial\"+str(state_side)+\"/c_plot{i}.png\"\n",
    "with imageio.get_writer(gif_path, mode='I') as writer:\n",
    "    for i in range(n):\n",
    "        writer.append_data(imageio.imread(frames_path.format(i=i)))"
   ]
  },
  {
   "cell_type": "markdown",
   "metadata": {},
   "source": [
    "Gif for intermediate"
   ]
  },
  {
   "cell_type": "code",
   "execution_count": 15,
   "metadata": {},
   "outputs": [
    {
     "data": {
      "text/plain": [
       "<Figure size 432x288 with 0 Axes>"
      ]
     },
     "metadata": {},
     "output_type": "display_data"
    }
   ],
   "source": [
    "arrows_x = np.zeros(len(inter[0]))\n",
    "arrows_y = np.zeros(len(inter[1]))\n",
    "#colors = np.linspace(0,len(initial[0]),len(initial[0])+1)\n",
    "for i in range(len(inter[1])-1):\n",
    "    arrows_x[i] = inter[0][i+1]-inter[0][i]\n",
    "    arrows_y[i] = inter[1][i+1]-inter[1][i]\n",
    "\n",
    "xs = np.linspace(-0.5, state_side+0.5, state_side+2)\n",
    "ys = np.linspace(-0.5, state_side+0.5, state_side+2)\n",
    "for i in range(len(inter[1])):\n",
    "    ax = plt.gca()\n",
    "    # grid lines\n",
    "    for x in xs:\n",
    "        plt.plot([x, x], [ys[0], ys[-1]], color='black', alpha=.33, linestyle='-')\n",
    "    for y in ys:\n",
    "        plt.plot([xs[0], xs[-1]], [y, y], color='black', alpha=.33, linestyle='-')\n",
    "\n",
    "    ax.axis('off')\n",
    "    plt.title('Episode = 10, λ = '+str(λ)+', ϵ = 1/10, α = '+str(α))\n",
    "    plt.plot(reward_x,reward_y,'ro',markersize = 10)\n",
    "\n",
    "    plt.quiver(inter[0][i],inter[1][i],arrows_x[i],arrows_y[i])\n",
    "    plt.savefig('./sarsa_lambda/inter'+str(state_side)+'/plot'+str(i)+'.png')\n",
    "    plt.clf()\n",
    "n = len(inter[0])\n",
    "gif_path = \"./sarsa_lambda/inter\"+str(state_side)+\".gif\"\n",
    "frames_path = \"./sarsa_lambda/inter\"+str(state_side)+\"/plot{i}.png\"\n",
    "with imageio.get_writer(gif_path, mode='I') as writer:\n",
    "    for i in range(n):\n",
    "        writer.append_data(imageio.imread(frames_path.format(i=i)))"
   ]
  },
  {
   "cell_type": "markdown",
   "metadata": {},
   "source": [
    "Gif for final"
   ]
  },
  {
   "cell_type": "code",
   "execution_count": 238,
   "metadata": {
    "scrolled": true
   },
   "outputs": [
    {
     "data": {
      "text/plain": [
       "<Figure size 432x288 with 0 Axes>"
      ]
     },
     "metadata": {},
     "output_type": "display_data"
    }
   ],
   "source": [
    "arrows_x = np.zeros(len(final[0]))\n",
    "arrows_y = np.zeros(len(final[1]))\n",
    "colors = np.linspace(0,len(final[0]),len(final[0])+1)\n",
    "for i in range(len(final[1])-1):\n",
    "    arrows_x[i] = final[0][i+1]-final[0][i]\n",
    "    arrows_y[i] = final[1][i+1]-final[1][i]\n",
    "    \n",
    "xs = np.linspace(-0.5, state_side+0.5, state_side+2)\n",
    "ys = np.linspace(-0.5, state_side+0.5, state_side+2)\n",
    "for i in range(len(final[1])):\n",
    "    ax = plt.gca()\n",
    "    # grid lines\n",
    "    for x in xs:\n",
    "        plt.plot([x, x], [ys[0], ys[-1]], color='black', alpha=.33, linestyle='-')\n",
    "    for y in ys:\n",
    "        plt.plot([xs[0], xs[-1]], [y, y], color='black', alpha=.33, linestyle='-')\n",
    "\n",
    "    ax.axis('off')\n",
    "    plt.title('Episode = '+str(n_episodes)+', λ = '+str(λ)+', ϵ = 1/'+str(n_episodes)+', α = '+str(α))\n",
    "    plt.plot(reward_x,reward_y,'ro',markersize = 10)\n",
    "\n",
    "    plt.quiver(final[0][i],final[1][i],arrows_x[i],arrows_y[i])\n",
    "    plt.savefig('./sarsa_lambda/final'+str(state_side)+'/c_plot'+str(i)+'.png')\n",
    "    plt.clf()\n",
    "#plt.show()\n",
    "n = len(final[0])\n",
    "gif_path = \"./sarsa_lambda/c_final\"+str(state_side)+\".gif\"\n",
    "frames_path = \"./sarsa_lambda/final\"+str(state_side)+\"/c_plot{i}.png\"\n",
    "with imageio.get_writer(gif_path, mode='I') as writer:\n",
    "    for i in range(n):\n",
    "        writer.append_data(imageio.imread(frames_path.format(i=i)))"
   ]
  },
  {
   "cell_type": "markdown",
   "metadata": {},
   "source": [
    "## Q-learning"
   ]
  },
  {
   "cell_type": "code",
   "execution_count": 135,
   "metadata": {
    "collapsed": true
   },
   "outputs": [],
   "source": [
    "def q_learning(n_episodes,state_side,reward_x,reward_y, α, ϵ = 0.1):\n",
    "    Q = np.zeros((state_side,state_side,4)) \n",
    "    traj_init_x = np.array([])\n",
    "    traj_init_y = np.array([])\n",
    "    traj_final_x = np.array([])\n",
    "    traj_final_y = np.array([])\n",
    "    n_steps = np.array([])\n",
    "    for i in range(n_episodes):\n",
    "        #print(\"episode = \", i, \"\\n\")\n",
    "        if i == 0 or i == n_episodes-1:\n",
    "            s_x,s_y = 2,2\n",
    "        else:\n",
    "            s_x,s_y = np.random.randint(0,state_side),np.random.randint(0,state_side) #2,2 #\n",
    "        #\n",
    "        if i == 0:\n",
    "            traj_init_x = np.append(traj_init_x,s_x)\n",
    "            traj_init_y = np.append(traj_init_y,s_y)\n",
    "        if i == n_episodes-1:\n",
    "            traj_final_x = np.append(traj_final_x,s_x)\n",
    "            traj_final_y = np.append(traj_final_y,s_y)        \n",
    "        #action = np.random.choice(legal_actions(s_x,s_y,state_side)) \n",
    "        terminate = False\n",
    "        #s_x_p,s_y_p,r,a_p = 0,0,0,0\n",
    "        δ = 0\n",
    "        t = 0\n",
    "        while terminate == False:\n",
    "            if s_x == reward_x and s_y == reward_y:\n",
    "                n_steps = np.append(n_steps,t)\n",
    "                terminate = True\n",
    "            else:\n",
    "                t +=1\n",
    "                #ϵ-greedy is our behaviour policy\n",
    "                a_p = greedy_policy(s_x,s_y,Q,ϵ/(i+1),state_side) \n",
    "                s_x_p,s_y_p = dynamics(s_x,s_y,a_p)\n",
    "                #print(\"s_x_p = \", s_x_p, \", s_y_p = \", s_y_p, \"\\n\")\n",
    "                #print(\"legal actions from here = \", legal_actions(s_x_p,s_y_p,state_side), \"\\n\")\n",
    "                r = reward(s_x_p,s_y_p,reward_x,reward_y)\n",
    "                #look at best action from state s_p given legal actions, greedy policy is target policy\n",
    "                legal = legal_actions(s_x_p,s_y_p,state_side)\n",
    "                δ = r + np.amax(Q[s_x_p,s_y_p,legal]) - Q[s_x,s_y,a_p]\n",
    "                Q[s_x,s_y,a_p] += α*δ \n",
    "                s_x = s_x_p\n",
    "                s_y = s_y_p\n",
    "                if i == 0:\n",
    "                    traj_init_x = np.append(traj_init_x,s_x)\n",
    "                    traj_init_y = np.append(traj_init_y,s_y)\n",
    "                if i == n_episodes-1:\n",
    "                    traj_final_x = np.append(traj_final_x,s_x)\n",
    "                    traj_final_y = np.append(traj_final_y,s_y)\n",
    "                #print(\"s_x = \", s_x, \", s_y = \", s_y ,\", action = \", action , \"\\n\")\n",
    "    return Q, n_steps, [traj_init_x,traj_init_y], [traj_final_x,traj_final_y]"
   ]
  },
  {
   "cell_type": "code",
   "execution_count": 136,
   "metadata": {},
   "outputs": [],
   "source": [
    "state_side = 8\n",
    "n_episodes = 1000\n",
    "reward_x = 6\n",
    "reward_y = 6\n",
    "ϵ = 1\n",
    "α = 0.1\n",
    "q_l, steps_q_learning, initial_q, final_q = q_learning(n_episodes,state_side, reward_x, reward_y, α, ϵ)"
   ]
  },
  {
   "cell_type": "code",
   "execution_count": 121,
   "metadata": {},
   "outputs": [
    {
     "data": {
      "text/plain": [
       "(127, 11)"
      ]
     },
     "execution_count": 121,
     "metadata": {},
     "output_type": "execute_result"
    }
   ],
   "source": [
    "len(initial_q[0]),len(final_q[0])"
   ]
  },
  {
   "cell_type": "markdown",
   "metadata": {},
   "source": [
    "Gif for initial"
   ]
  },
  {
   "cell_type": "code",
   "execution_count": 235,
   "metadata": {},
   "outputs": [
    {
     "name": "stderr",
     "output_type": "stream",
     "text": [
      "/Users/jorgeramirezruiz/anaconda/envs/py371/lib/python3.7/site-packages/matplotlib/quiver.py:665: RuntimeWarning: divide by zero encountered in double_scalars\n",
      "  length = a * (widthu_per_lenu / (self.scale * self.width))\n",
      "/Users/jorgeramirezruiz/anaconda/envs/py371/lib/python3.7/site-packages/matplotlib/quiver.py:665: RuntimeWarning: invalid value encountered in multiply\n",
      "  length = a * (widthu_per_lenu / (self.scale * self.width))\n"
     ]
    },
    {
     "data": {
      "text/plain": [
       "<Figure size 432x288 with 0 Axes>"
      ]
     },
     "metadata": {},
     "output_type": "display_data"
    }
   ],
   "source": [
    "arrows_x = np.zeros(len(initial_q[0]))\n",
    "arrows_y = np.zeros(len(initial_q[1]))\n",
    "#colors = np.linspace(0,len(initial[0]),len(initial[0])+1)\n",
    "for i in range(len(initial_q[1])-1):\n",
    "    arrows_x[i] = initial_q[0][i+1]-initial_q[0][i]\n",
    "    arrows_y[i] = initial_q[1][i+1]-initial_q[1][i]\n",
    "\n",
    "xs = np.linspace(-0.5, state_side+0.5, state_side+2)\n",
    "ys = np.linspace(-0.5, state_side+0.5, state_side+2)\n",
    "plt.rc(\"text\", usetex=False)\n",
    "for i in range(len(initial_q[1])):\n",
    "    ax = plt.gca()\n",
    "    # grid lines\n",
    "    for x in xs:\n",
    "        plt.plot([x, x], [ys[0], ys[-1]], color='black', alpha=.33, linestyle='-')\n",
    "    for y in ys:\n",
    "        plt.plot([xs[0], xs[-1]], [y, y], color='black', alpha=.33, linestyle='-')\n",
    "\n",
    "    ax.axis('off')\n",
    "    plt.title('Episode = 1, ϵ = 1, α = '+str(α))\n",
    "    plt.plot(reward_x,reward_y,'ro',markersize = 10)\n",
    "\n",
    "    plt.quiver(initial_q[0][i],initial_q[1][i],arrows_x[i],arrows_y[i])\n",
    "    plt.savefig('./q-learning/initial'+str(state_side)+'/c_plot'+str(i)+'.png')\n",
    "    plt.clf()\n",
    "n = len(initial_q[0])\n",
    "gif_path = \"./q-learning/c_initial\"+str(state_side)+\".gif\"\n",
    "frames_path = \"./q-learning/initial\"+str(state_side)+\"/c_plot{i}.png\"\n",
    "with imageio.get_writer(gif_path, mode='I') as writer:\n",
    "    for i in range(n):\n",
    "        writer.append_data(imageio.imread(frames_path.format(i=i)))"
   ]
  },
  {
   "cell_type": "code",
   "execution_count": 239,
   "metadata": {},
   "outputs": [
    {
     "data": {
      "text/plain": [
       "<Figure size 432x288 with 0 Axes>"
      ]
     },
     "metadata": {},
     "output_type": "display_data"
    }
   ],
   "source": [
    "arrows_x = np.zeros(len(final_q[0]))\n",
    "arrows_y = np.zeros(len(final_q[1]))\n",
    "colors = np.linspace(0,len(final_q[0]),len(final_q[0])+1)\n",
    "for i in range(len(final_q[1])-1):\n",
    "    arrows_x[i] = final_q[0][i+1]-final_q[0][i]\n",
    "    arrows_y[i] = final_q[1][i+1]-final_q[1][i]\n",
    "    \n",
    "xs = np.linspace(-0.5, state_side+0.5, state_side+2)\n",
    "ys = np.linspace(-0.5, state_side+0.5, state_side+2)\n",
    "plt.rc(\"text\", usetex=False)\n",
    "for i in range(len(final_q[1])):\n",
    "    ax = plt.gca()\n",
    "    # grid lines\n",
    "    for x in xs:\n",
    "        plt.plot([x, x], [ys[0], ys[-1]], color='black', alpha=.33, linestyle='-')\n",
    "    for y in ys:\n",
    "        plt.plot([xs[0], xs[-1]], [y, y], color='black', alpha=.33, linestyle='-')\n",
    "\n",
    "    ax.axis('off')\n",
    "    plt.title('Episode = '+str(n_episodes)+', ϵ = 1/'+str(n_episodes)+', α = '+str(α))\n",
    "    plt.plot(reward_x,reward_y,'ro',markersize = 10)\n",
    "\n",
    "    plt.quiver(final_q[0][i],final_q[1][i],arrows_x[i],arrows_y[i])\n",
    "    plt.savefig('./q-learning/final'+str(state_side)+'/c_plot'+str(i)+'.png')\n",
    "    plt.clf()\n",
    "#plt.show()\n",
    "n = len(final_q[0])\n",
    "gif_path = \"./q-learning/c_final\"+str(state_side)+\".gif\"\n",
    "frames_path = \"./q-learning/final\"+str(state_side)+\"/c_plot{i}.png\"\n",
    "with imageio.get_writer(gif_path, mode='I') as writer:\n",
    "    for i in range(n):\n",
    "        writer.append_data(imageio.imread(frames_path.format(i=i)))"
   ]
  },
  {
   "cell_type": "markdown",
   "metadata": {},
   "source": [
    "## Comparison"
   ]
  },
  {
   "cell_type": "code",
   "execution_count": 233,
   "metadata": {},
   "outputs": [
    {
     "data": {
      "image/png": "[encoded data removed]",
      "text/plain": [
       "<Figure size 283.465x255.118 with 1 Axes>"
      ]
     },
     "metadata": {
      "needs_background": "light"
     },
     "output_type": "display_data"
    }
   ],
   "source": [
    "widthCM = 10\n",
    "heightCM = 9\n",
    "f = plt.figure(figsize=(widthCM/2.54, heightCM/2.54), dpi=72)\n",
    "ax = plt.gca()\n",
    "plt.rc(\"text\", usetex=True)\n",
    "plt.rc(\"font\",family=\"serif\", serif = \"Computer Modern\")\n",
    "ax.spines[\"right\"].set_visible(False)\n",
    "ax.spines[\"top\"].set_visible(False)\n",
    "\n",
    "plt.plot(steps_q_learning, label = \"Q-learning\")\n",
    "plt.plot(steps_sarsa,label=\"Sarsa($\\lambda$)\")\n",
    "plt.title(r'Gridworld 8x8, $\\epsilon$ = 1/episode, $\\alpha = 0.1$, $\\lambda = 0.8$')\n",
    "plt.xlabel(\"Episodes\")\n",
    "plt.ylabel(\"Number of steps\")\n",
    "plt.tight_layout(rect = [0.01, 0.01, 1, 1])\n",
    "plt.legend(frameon=False)\n",
    "plt.savefig(\"sarsa-lambda_v_q-learning_8.pdf\")"
   ]
  },
  {
   "cell_type": "markdown",
   "metadata": {
    "collapsed": true
   },
   "source": [
    "## Q-surface"
   ]
  },
  {
   "cell_type": "code",
   "execution_count": 231,
   "metadata": {},
   "outputs": [
    {
     "data": {
      "image/png": "[encoded data removed]",
      "text/plain": [
       "<Figure size 510.236x255.118 with 3 Axes>"
      ]
     },
     "metadata": {
      "needs_background": "light"
     },
     "output_type": "display_data"
    }
   ],
   "source": [
    "widthCM = 18\n",
    "heightCM = 9\n",
    "side_length = 8\n",
    "fig = plt.figure(figsize=(widthCM/2.54, heightCM/2.54), dpi=72)\n",
    "plt.rc(\"text\", usetex=True)\n",
    "plt.rc(\"font\",family=\"serif\", serif = \"Computer Modern\")\n",
    "\n",
    "ax1 = fig.add_subplot(1, 2, 1)#,projection = '3d')\n",
    "#ax = plt.axes(projection='3d')\n",
    "#ax = fig.gca(projection='3d')\n",
    "xs = np.linspace(1, state_side, state_side)\n",
    "ys = np.linspace(1, state_side, state_side)\n",
    "for x in xs:\n",
    "    ax1.plot([x, x], [ys[0], ys[-1]], color='black', alpha=.33, linestyle='-')\n",
    "for y in ys:\n",
    "    ax1.plot([xs[0], xs[-1]], [y, y], color='black', alpha=.33, linestyle='-')\n",
    "ax1.axis('off')\n",
    "x = np.outer(np.linspace(1, state_side,state_side), np.ones(state_side))\n",
    "y = x.copy().T\n",
    "v = np.zeros([side_length,side_length])\n",
    "for s_x in range(side_length):\n",
    "    for s_y in range(side_length):\n",
    "        acts = legal_actions(s_x,s_y,side_length)\n",
    "        v[s_x,s_y] = np.max(q_l[s_x,s_y,acts])\n",
    "        \n",
    "surf = ax1.contourf(x, y, v, cmap = cm.coolwarm, vmin = -10, vmax = 0)\n",
    "ax1.plot([6],[6],\"ro\")\n",
    "#plt.grid(True)\n",
    "#surf = ax1.plot_surface(x, y, v, cmap = cm.coolwarm)\n",
    "ax1.set_title('Q-learning V(s)')\n",
    "#fig.colorbar(surf, ticks = [0, -2, -4, -6, -8, -10], shrink=0.5, aspect=5)\n",
    "\n",
    "ax2 = fig.add_subplot(1, 2, 2)#, projection = '3d')\n",
    "\n",
    "xs = np.linspace(1, state_side, state_side)\n",
    "ys = np.linspace(1, state_side, state_side)\n",
    "for x_i in xs:\n",
    "    ax2.plot([x_i, x_i], [ys[0], ys[-1]], color='black', alpha=.33, linestyle='-')\n",
    "for y_i in ys:\n",
    "    ax2.plot([xs[0], xs[-1]], [y_i, y_i], color='black', alpha=.33, linestyle='-')\n",
    "ax2.axis('off')\n",
    "v2 = np.zeros([side_length,side_length])\n",
    "for s_x in range(side_length):\n",
    "    for s_y in range(side_length):\n",
    "        acts = legal_actions(s_x,s_y,side_length)\n",
    "        v2[s_x,s_y] = np.max(q[s_x,s_y,acts])\n",
    "#legal_actions(s_x,s_y,side_length)\n",
    "#v2 = np.max(q,axis = 2)\n",
    "surf2 = ax2.contourf(x, y, v2, cmap = cm.coolwarm, vmin = -10, vmax = 0)\n",
    "ax2.plot([6],[6],\"ro\")\n",
    "ax2.set_title(r'Sarsa($\\lambda$) V(s)')\n",
    "divider = make_axes_locatable(ax2)\n",
    "cax1 = divider.append_axes(\"right\", size=\"5%\", pad=0.05)\n",
    "fig.colorbar(surf2, cax=cax1, ticks = [0, -2, -4, -6, -8, -10])\n",
    "\n",
    "#fig.colorbar(surf2, ticks = [0, -2, -4, -6, -8, -10], shrink=0.5, aspect=3)\n",
    "plt.tight_layout(0.1,0.1,0.1)\n",
    "\n",
    "plt.savefig(\"./value_functions.pdf\")"
   ]
  },
  {
   "cell_type": "code",
   "execution_count": 232,
   "metadata": {},
   "outputs": [
    {
     "data": {
      "text/plain": [
       "<matplotlib.colorbar.Colorbar at 0x7fdc9d8f3be0>"
      ]
     },
     "execution_count": 232,
     "metadata": {},
     "output_type": "execute_result"
    },
    {
     "data": {
      "image/png": "[encoded data removed]",
      "text/plain": [
       "<Figure size 510.236x255.118 with 2 Axes>"
      ]
     },
     "metadata": {
      "needs_background": "light"
     },
     "output_type": "display_data"
    }
   ],
   "source": [
    "fig = plt.figure(figsize=(widthCM/2.54, heightCM/2.54), dpi=72)\n",
    "ax = mplot3d.Axes3D(fig)\n",
    "ax.elev = 30\n",
    "ax.azim = -40\n",
    "# = plt.axes(projection='3d')\n",
    "surf = ax.plot_surface(x, y, v, cmap = cm.coolwarm)\n",
    "#ax.scatter([6],[6],[8],c=\"red\",s = 100)\n",
    "fig.colorbar(surf, shrink=0.5, aspect=5)"
   ]
  },
  {
   "cell_type": "code",
   "execution_count": null,
   "metadata": {
    "collapsed": true
   },
   "outputs": [],
   "source": []
  }
 ],
 "metadata": {
  "anaconda-cloud": {},
  "kernelspec": {
   "display_name": "Python 3",
   "language": "python",
   "name": "python3"
  },
  "language_info": {
   "codemirror_mode": {
    "name": "ipython",
    "version": 3
   },
   "file_extension": ".py",
   "mimetype": "text/x-python",
   "name": "python",
   "nbconvert_exporter": "python",
   "pygments_lexer": "ipython3",
   "version": "3.8.5"
  }
 },
 "nbformat": 4,
 "nbformat_minor": 2
}
